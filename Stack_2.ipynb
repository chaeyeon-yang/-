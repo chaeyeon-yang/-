{
 "cells": [
  {
   "cell_type": "code",
   "execution_count": 13,
   "metadata": {},
   "outputs": [
    {
     "name": "stdout",
     "output_type": "stream",
     "text": [
      "스텍이 비었나요? True\n",
      "스텍에 숫자 0~9를 추가합니다.\n",
      "9876543210\n",
      "스텍크기: 10\n",
      "peek: 9\n",
      "pop: 9\n",
      "peek: 8\n",
      "스텍크기: 9\n",
      "스텍이 비었나요? False\n",
      "876543210\n"
     ]
    }
   ],
   "source": [
    "# Node의 컨테이너로 스텍구현\n",
    "\n",
    "class Node(object):\n",
    "    def __init__(self, value=None, pointer=None):\n",
    "        self.value = value\n",
    "        self.pointer = pointer\n",
    "\n",
    "    \n",
    "class Stack(object):\n",
    "    \n",
    "    def __init__(self):\n",
    "        #초기값 설정\n",
    "        self.head = None\n",
    "        self.count = 0\n",
    "        \n",
    "    def isEmpty(self):\n",
    "        #스텍이 비어있는지 확인\n",
    "        return not bool(self.head)\n",
    "        \n",
    "    def push(self, item):\n",
    "        #스택 맨 끝에 항목을 삽입\n",
    "        self.head = Node(item, self.head)\n",
    "        self.count += 1\n",
    "        \n",
    "    def pop(self):\n",
    "        #스택 맨 끝 항목을 반환하는 동시에 제거\n",
    "        if self.count >0 and self.head:\n",
    "            node = self.head\n",
    "            self.head = node.pointer\n",
    "            self.count -= 1\n",
    "            return node.value\n",
    "        else:\n",
    "            print(\"Stack is empty.\")\n",
    "            \n",
    "    def peek(self):\n",
    "        #스텍 맨 끝 항목을 조회\n",
    "        if self.count > 0 and self.head:\n",
    "            return self.head.value\n",
    "        else:\n",
    "            print(\"Stack is empty.\")\n",
    "    \n",
    "        \n",
    "    def size(self):\n",
    "        #스텍 크기 확인\n",
    "        return self.count\n",
    "        \n",
    "    def __repr__(self):\n",
    "        node = self.head\n",
    "        while node:\n",
    "            print(node.value, end=\"\")\n",
    "            node = node.pointer\n",
    "        print()\n",
    "        \n",
    "#테스트 코드\n",
    "\n",
    "if __name__ ==\"__main__\":\n",
    "    stack = Stack()\n",
    "    print(\"스텍이 비었나요? {0}\".format(stack.isEmpty()))\n",
    "    print(\"스텍에 숫자 0~9를 추가합니다.\")\n",
    "    for i in range(10):\n",
    "        stack.push(i)\n",
    "    stack.__repr__()\n",
    "    print(\"스텍크기: {0}\".format(stack.size()))\n",
    "    print(\"peek: {0}\".format(stack.peek()))\n",
    "    print(\"pop: {0}\".format(stack.pop()))\n",
    "    print(\"peek: {0}\".format(stack.peek()))\n",
    "    print(\"스텍크기: {0}\".format(stack.size()))\n",
    "    print(\"스텍이 비었나요? {0}\".format(stack.isEmpty()))\n",
    "    stack.__repr__()\n",
    "    \n",
    "        \n",
    "        "
   ]
  },
  {
   "cell_type": "code",
   "execution_count": null,
   "metadata": {},
   "outputs": [],
   "source": []
  },
  {
   "cell_type": "code",
   "execution_count": null,
   "metadata": {},
   "outputs": [],
   "source": []
  },
  {
   "cell_type": "code",
   "execution_count": null,
   "metadata": {},
   "outputs": [],
   "source": []
  },
  {
   "cell_type": "code",
   "execution_count": null,
   "metadata": {},
   "outputs": [],
   "source": []
  },
  {
   "cell_type": "code",
   "execution_count": null,
   "metadata": {},
   "outputs": [],
   "source": []
  },
  {
   "cell_type": "code",
   "execution_count": null,
   "metadata": {},
   "outputs": [],
   "source": []
  },
  {
   "cell_type": "code",
   "execution_count": null,
   "metadata": {},
   "outputs": [],
   "source": []
  },
  {
   "cell_type": "code",
   "execution_count": null,
   "metadata": {},
   "outputs": [],
   "source": []
  },
  {
   "cell_type": "code",
   "execution_count": null,
   "metadata": {},
   "outputs": [],
   "source": []
  },
  {
   "cell_type": "code",
   "execution_count": null,
   "metadata": {},
   "outputs": [],
   "source": []
  },
  {
   "cell_type": "code",
   "execution_count": null,
   "metadata": {},
   "outputs": [],
   "source": []
  },
  {
   "cell_type": "code",
   "execution_count": null,
   "metadata": {},
   "outputs": [],
   "source": []
  },
  {
   "cell_type": "code",
   "execution_count": null,
   "metadata": {},
   "outputs": [],
   "source": []
  }
 ],
 "metadata": {
  "kernelspec": {
   "display_name": "Python 3",
   "language": "python",
   "name": "python3"
  },
  "language_info": {
   "codemirror_mode": {
    "name": "ipython",
    "version": 3
   },
   "file_extension": ".py",
   "mimetype": "text/x-python",
   "name": "python",
   "nbconvert_exporter": "python",
   "pygments_lexer": "ipython3",
   "version": "3.7.6"
  }
 },
 "nbformat": 4,
 "nbformat_minor": 4
}
