{
 "cells": [
  {
   "cell_type": "code",
   "execution_count": null,
   "metadata": {},
   "outputs": [],
   "source": [
    "class Node(object):\n",
    "    def __init__(self, value = None, pointer = None):\n",
    "        self.value = value\n",
    "        self.pointer = pointer\n",
    "    \n",
    "\n",
    "class LinkedList(object):\n",
    "    \n",
    "    def __init__(self):\n",
    "        self.head = None\n",
    "        self.length = 0\n",
    "    \n",
    "    \n",
    "    def isEmpty(self):\n",
    "        return not bool(self.length)\n",
    "    \n",
    "    def add_first(self, value):                     # 노드를 맨 앞에 추가하는 것\n",
    "        self.length += 1\n",
    "        new_node = Node(value, self.head)\n",
    "        new_node.pointer = self.head\n",
    "        self.head = new_node\n",
    "    \n",
    "    def insertAfter(self, prev_node, value):        # 나중에 노드를 끼워 넣는것\n",
    "        if prev_node:\n",
    "            new_node = Node(value)\n",
    "            new_node.pointer = prev_node.pointer\n",
    "            prev_node.pointer = new_node\n",
    "            self.length += 1\n",
    "            \n",
    "        else:\n",
    "            print(\"List is empty.\")\n",
    "        \n",
    "    def add_last(self, value):\n",
    "        new_node = Node(value)\n",
    "        self.length += 1\n",
    "        if self.head is None:\n",
    "            self.head = new_node\n",
    "        \n",
    "        last = self.head\n",
    "        while last.pointer:\n",
    "            last = last.pointer                     # 노드를 맨 뒤에 추가하는 것\n",
    "        last.pointer = new_node\n",
    "\n",
    "        \n",
    "    def delete_node(self, value):                          \n",
    "        if isEmpty():                               # 일정 값을 가지고 있는 노드 삭제\n",
    "            print(\"List is empty.\")\n",
    "        \n",
    "        while self.head != None:\n",
    "            if self.head.value == value:\n",
    "                break\n",
    "            self.head = self.head.pointer\n",
    "            self.length -= 1\n",
    "        \n",
    "                \n",
    "    def size(self):\n",
    "        return self.length\n",
    "    \n",
    "    \n",
    "    def print_list(self):\n",
    "        node = self.head\n",
    "        while node:\n",
    "            print(node.value, end=\" \")\n",
    "            node = node.pointer\n",
    "        print()\n",
    "        \n",
    "# 테스트 코드\n",
    "\n",
    "if __name__ == \"__main__\":\n",
    "    SLL = LinkedList()\n",
    "    print(\"단일 연결 리스트가 비었나요? {0}\".format(SLL.isEmpty()))\n",
    "    print(\"단일 연결리스트에 숫자 0~9를 추가합니다.\")\n",
    "    print(\"단일 연결리스트의 길이: {0}\".format(SLL.size()))\n",
    "    for i in range(10):\n",
    "        SLL.add_last(i)\n",
    "    print(\"단일 연결 리스트의 길이: {0}\".format(SLL.size()))"
   ]
  },
  {
   "cell_type": "code",
   "execution_count": null,
   "metadata": {},
   "outputs": [],
   "source": []
  },
  {
   "cell_type": "code",
   "execution_count": null,
   "metadata": {},
   "outputs": [],
   "source": []
  },
  {
   "cell_type": "code",
   "execution_count": null,
   "metadata": {},
   "outputs": [],
   "source": []
  },
  {
   "cell_type": "code",
   "execution_count": null,
   "metadata": {},
   "outputs": [],
   "source": []
  },
  {
   "cell_type": "code",
   "execution_count": null,
   "metadata": {},
   "outputs": [],
   "source": []
  },
  {
   "cell_type": "code",
   "execution_count": null,
   "metadata": {},
   "outputs": [],
   "source": []
  },
  {
   "cell_type": "code",
   "execution_count": null,
   "metadata": {},
   "outputs": [],
   "source": []
  },
  {
   "cell_type": "code",
   "execution_count": null,
   "metadata": {},
   "outputs": [],
   "source": []
  },
  {
   "cell_type": "code",
   "execution_count": null,
   "metadata": {},
   "outputs": [],
   "source": []
  },
  {
   "cell_type": "code",
   "execution_count": null,
   "metadata": {},
   "outputs": [],
   "source": []
  },
  {
   "cell_type": "code",
   "execution_count": null,
   "metadata": {},
   "outputs": [],
   "source": []
  },
  {
   "cell_type": "code",
   "execution_count": null,
   "metadata": {},
   "outputs": [],
   "source": []
  },
  {
   "cell_type": "code",
   "execution_count": null,
   "metadata": {},
   "outputs": [],
   "source": []
  },
  {
   "cell_type": "code",
   "execution_count": null,
   "metadata": {},
   "outputs": [],
   "source": []
  },
  {
   "cell_type": "code",
   "execution_count": null,
   "metadata": {},
   "outputs": [],
   "source": []
  }
 ],
 "metadata": {
  "kernelspec": {
   "display_name": "Python 3",
   "language": "python",
   "name": "python3"
  },
  "language_info": {
   "codemirror_mode": {
    "name": "ipython",
    "version": 3
   },
   "file_extension": ".py",
   "mimetype": "text/x-python",
   "name": "python",
   "nbconvert_exporter": "python",
   "pygments_lexer": "ipython3",
   "version": "3.7.6"
  }
 },
 "nbformat": 4,
 "nbformat_minor": 4
}
