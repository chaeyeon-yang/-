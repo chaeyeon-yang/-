{
 "cells": [
  {
   "cell_type": "code",
   "execution_count": 8,
   "metadata": {},
   "outputs": [
    {
     "name": "stdout",
     "output_type": "stream",
     "text": [
      "큐가 비었나요? True\n",
      "큐에 숫자 0~9를 추가합니다.\n",
      "큐의 크기: 10\n",
      "peek: 0\n",
      "dequeue: 0\n",
      "peek: 1\n",
      "큐의 크기: 9\n",
      "큐가 비었나요? False\n",
      "[1, 2, 3, 4, 5, 6, 7, 8, 9]\n"
     ]
    }
   ],
   "source": [
    "\n",
    "# 선형 큐 \n",
    "\n",
    "# 코드 _1\n",
    "class Queue(object):\n",
    "    def __init__(self):\n",
    "        # 초기값 설정\n",
    "        self.items = []\n",
    "        \n",
    "    def isEmpty(self):\n",
    "        # 큐가 비었는지 확인\n",
    "        return not bool(self.items)\n",
    "        \n",
    "    def enqueue(self, item):\n",
    "        # 큐 뒤쪽에 항목을 삽입\n",
    "        self.items.append(item)\n",
    "        \n",
    "        \n",
    "    def dequeue(self):\n",
    "        # 큐 앞쪽의 항목을 반환하는 동시에 제거\n",
    "        value = self.items[0]\n",
    "        if value is not None:\n",
    "            del self.items[0]\n",
    "            return value\n",
    "        else:\n",
    "            print(\"Queue is empty.\")\n",
    "            \n",
    "    def peek(self):\n",
    "        # 큐 앞쪽의 항목을 조회\n",
    "        if self.items:\n",
    "            return self.items[0]\n",
    "        else:\n",
    "            print(\"Queue is empty.\")\n",
    "        \n",
    "    def size(self):\n",
    "        # 큐의 크기를 반환\n",
    "        return len(self.items)\n",
    "    \n",
    "    def __repr__(self):\n",
    "        return repr(self.items)\n",
    "    \n",
    "    \n",
    "# 테스트 코드 (코드 _2 의 테스트 코드와 동일)\n",
    "\n",
    "if __name__ == \"__main__\":\n",
    "    queue = Queue()\n",
    "    print(\"큐가 비었나요? {0}\".format(queue.isEmpty()))\n",
    "    print(\"큐에 숫자 0~9를 추가합니다.\")\n",
    "    for i in range(10):\n",
    "        queue.enqueue(i)\n",
    "    print(\"큐의 크기: {0}\".format(queue.size()))\n",
    "    print(\"peek: {0}\".format(queue.peek()))\n",
    "    print(\"dequeue: {0}\".format(queue.dequeue()))\n",
    "    print(\"peek: {0}\".format(queue.peek()))\n",
    "    print(\"큐의 크기: {0}\".format(queue.size()))\n",
    "    print(\"큐가 비었나요? {0}\".format(queue.isEmpty()))\n",
    "    print(queue)\n",
    "    \n"
   ]
  },
  {
   "cell_type": "code",
   "execution_count": null,
   "metadata": {},
   "outputs": [],
   "source": []
  },
  {
   "cell_type": "code",
   "execution_count": 15,
   "metadata": {},
   "outputs": [
    {
     "name": "stdout",
     "output_type": "stream",
     "text": [
      "큐가 비었나요? True\n",
      "큐에 숫자 0~9를 추가합니다.\n",
      "큐의 크기: 10\n",
      "peek: 0\n",
      "dequeue: 0\n",
      "peek: 1\n",
      "큐의 크기: 9\n",
      "큐가 비었나요? False\n",
      "[9, 8, 7, 6, 5, 4, 3, 2, 1]\n"
     ]
    }
   ],
   "source": [
    "# 코드 _2\n",
    "\n",
    "class Queue(object):\n",
    "    def __init__(self):\n",
    "        # 초기값 설정\n",
    "        self.items = []\n",
    "    \n",
    "    def isEmpty(self):\n",
    "        # 큐가 비었는지 확인\n",
    "        return not bool(self.items)\n",
    "    \n",
    "    def enqueue(self, item):\n",
    "        # 큐의 뒤쪽에 항목을 삽입\n",
    "        self.items.insert(0, item)\n",
    "        \n",
    "    def dequeue(self):\n",
    "        # 큐의 앞쪽의 항목을 반환하는 동시에 제거\n",
    "        value = self.items.pop()\n",
    "        if value is not None:\n",
    "            return value\n",
    "        else:\n",
    "            print(\"Queue is empty.\")\n",
    "            \n",
    "    def peek(self):\n",
    "        # 큐의 앞쪽의 항목을 조회\n",
    "        if self.items:\n",
    "            return self.items[-1]\n",
    "        else:\n",
    "            print(\"Queue is empty.\")\n",
    "            \n",
    "    def size(self):\n",
    "        # 큐의 크기 반환\n",
    "        return len(self.items)\n",
    "    \n",
    "    def __repr__(self):\n",
    "        return repr(self.items)\n",
    "    \n",
    "    \n",
    "# 테스트 코드\n",
    "\n",
    "if __name__ == \"__main__\":\n",
    "    queue = Queue()\n",
    "    print(\"큐가 비었나요? {0}\".format(queue.isEmpty()))\n",
    "    print(\"큐에 숫자 0~9를 추가합니다.\")\n",
    "    for i in range(10):\n",
    "        queue.enqueue(i)\n",
    "    print(\"큐의 크기: {0}\".format(queue.size()))\n",
    "    print(\"peek: {0}\".format(queue.peek()))\n",
    "    print(\"dequeue: {0}\".format(queue.dequeue()))\n",
    "    print(\"peek: {0}\".format(queue.peek()))\n",
    "    print(\"큐의 크기: {0}\".format(queue.size()))\n",
    "    print(\"큐가 비었나요? {0}\".format(queue.isEmpty()))\n",
    "    print(queue)"
   ]
  },
  {
   "cell_type": "code",
   "execution_count": null,
   "metadata": {},
   "outputs": [],
   "source": []
  },
  {
   "cell_type": "code",
   "execution_count": null,
   "metadata": {},
   "outputs": [],
   "source": []
  },
  {
   "cell_type": "code",
   "execution_count": null,
   "metadata": {},
   "outputs": [],
   "source": []
  },
  {
   "cell_type": "code",
   "execution_count": null,
   "metadata": {},
   "outputs": [],
   "source": []
  },
  {
   "cell_type": "code",
   "execution_count": null,
   "metadata": {},
   "outputs": [],
   "source": []
  },
  {
   "cell_type": "code",
   "execution_count": null,
   "metadata": {},
   "outputs": [],
   "source": []
  },
  {
   "cell_type": "code",
   "execution_count": null,
   "metadata": {},
   "outputs": [],
   "source": []
  },
  {
   "cell_type": "code",
   "execution_count": null,
   "metadata": {},
   "outputs": [],
   "source": []
  },
  {
   "cell_type": "code",
   "execution_count": null,
   "metadata": {},
   "outputs": [],
   "source": []
  },
  {
   "cell_type": "code",
   "execution_count": null,
   "metadata": {},
   "outputs": [],
   "source": []
  },
  {
   "cell_type": "code",
   "execution_count": null,
   "metadata": {},
   "outputs": [],
   "source": []
  },
  {
   "cell_type": "code",
   "execution_count": null,
   "metadata": {},
   "outputs": [],
   "source": []
  },
  {
   "cell_type": "code",
   "execution_count": null,
   "metadata": {},
   "outputs": [],
   "source": [
    "\n",
    "\n"
   ]
  }
 ],
 "metadata": {
  "kernelspec": {
   "display_name": "Python 3",
   "language": "python",
   "name": "python3"
  },
  "language_info": {
   "codemirror_mode": {
    "name": "ipython",
    "version": 3
   },
   "file_extension": ".py",
   "mimetype": "text/x-python",
   "name": "python",
   "nbconvert_exporter": "python",
   "pygments_lexer": "ipython3",
   "version": "3.7.6"
  }
 },
 "nbformat": 4,
 "nbformat_minor": 4
}
